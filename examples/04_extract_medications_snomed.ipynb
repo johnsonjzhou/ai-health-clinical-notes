{
 "cells": [
  {
   "cell_type": "markdown",
   "metadata": {},
   "source": [
    "## Extract medications and match to SNOMED CT-AU (AMT)\n",
    "\n",
    "This example uses LM Studio and an off-the-shelf large language model (LLM) to extract medications from patient-doctor dialogue into structured machine readable format (i.e. JSON).\n",
    "\n",
    "Building on previous notebook [02_extract_medications](examples/02_extract_medications.ipynb), we will attempt to match the medications to SNOMED concept codes.\n",
    "\n",
    "Tools used:\n",
    "- Python Data Analysis Library (Pandas) ([link](https://pandas.pydata.org/))\n",
    "- LM Studio Python SDK ([link](https://lmstudio.ai/docs/python)). Note that the LM Studio desktop application must be running and the server is enabled within the application.\n",
    "\n",
    "Data used:\n",
    "- Clinical visit note summarisation corpus ([link](https://github.com/microsoft/clinical_visit_note_summarization_corpus))\n",
    "- SNOMED CT-AU with AMT ([link](https://www.digitalhealth.gov.au/healthcare-providers/product-releases/snomed-ct-au-with-australian-medicines-terminology-amt-march-2025-release))\n",
    "\n",
    "New to SNOMED CT-AU? Check out CSIRO's Shrimp Browser ([link](https://ontoserver.csiro.au/shrimp/?concept=138875005&valueset=http://snomed.info/sct?fhir_vs&fhir=https://tx.ontoserver.csiro.au/fhir))"
   ]
  },
  {
   "cell_type": "code",
   "execution_count": 1,
   "metadata": {},
   "outputs": [],
   "source": [
    "# This cell loads required packages\n",
    "import pandas as pd\n",
    "import lmstudio as lms\n"
   ]
  },
  {
   "cell_type": "markdown",
   "metadata": {},
   "source": [
    "### Step 1: Load data as a Pandas DataFrame"
   ]
  },
  {
   "cell_type": "code",
   "execution_count": 2,
   "metadata": {},
   "outputs": [
    {
     "data": {
      "text/html": [
       "<div>\n",
       "<style scoped>\n",
       "    .dataframe tbody tr th:only-of-type {\n",
       "        vertical-align: middle;\n",
       "    }\n",
       "\n",
       "    .dataframe tbody tr th {\n",
       "        vertical-align: top;\n",
       "    }\n",
       "\n",
       "    .dataframe thead th {\n",
       "        text-align: right;\n",
       "    }\n",
       "</style>\n",
       "<table border=\"1\" class=\"dataframe\">\n",
       "  <thead>\n",
       "    <tr style=\"text-align: right;\">\n",
       "      <th></th>\n",
       "      <th>section_header</th>\n",
       "      <th>section_text</th>\n",
       "      <th>dialogue</th>\n",
       "    </tr>\n",
       "    <tr>\n",
       "      <th>ID</th>\n",
       "      <th></th>\n",
       "      <th></th>\n",
       "      <th></th>\n",
       "    </tr>\n",
       "  </thead>\n",
       "  <tbody>\n",
       "    <tr>\n",
       "      <th>0</th>\n",
       "      <td>GENHX</td>\n",
       "      <td>The patient is a 76-year-old white female who ...</td>\n",
       "      <td>Doctor: What brings you back into the clinic t...</td>\n",
       "    </tr>\n",
       "    <tr>\n",
       "      <th>1</th>\n",
       "      <td>GENHX</td>\n",
       "      <td>The patient is a 25-year-old right-handed Cauc...</td>\n",
       "      <td>Doctor: How're you feeling today?  \\nPatient: ...</td>\n",
       "    </tr>\n",
       "    <tr>\n",
       "      <th>2</th>\n",
       "      <td>GENHX</td>\n",
       "      <td>This is a 22-year-old female, who presented to...</td>\n",
       "      <td>Doctor: Hello, miss. What is the reason for yo...</td>\n",
       "    </tr>\n",
       "    <tr>\n",
       "      <th>3</th>\n",
       "      <td>MEDICATIONS</td>\n",
       "      <td>Prescribed medications were Salmeterol inhaler...</td>\n",
       "      <td>Doctor: Are you taking any over the counter me...</td>\n",
       "    </tr>\n",
       "    <tr>\n",
       "      <th>4</th>\n",
       "      <td>CC</td>\n",
       "      <td>Burn, right arm.</td>\n",
       "      <td>Doctor: Hi, how are you? \\nPatient: I burned m...</td>\n",
       "    </tr>\n",
       "  </tbody>\n",
       "</table>\n",
       "</div>"
      ],
      "text/plain": [
       "   section_header                                       section_text  \\\n",
       "ID                                                                     \n",
       "0           GENHX  The patient is a 76-year-old white female who ...   \n",
       "1           GENHX  The patient is a 25-year-old right-handed Cauc...   \n",
       "2           GENHX  This is a 22-year-old female, who presented to...   \n",
       "3     MEDICATIONS  Prescribed medications were Salmeterol inhaler...   \n",
       "4              CC                                   Burn, right arm.   \n",
       "\n",
       "                                             dialogue  \n",
       "ID                                                     \n",
       "0   Doctor: What brings you back into the clinic t...  \n",
       "1   Doctor: How're you feeling today?  \\nPatient: ...  \n",
       "2   Doctor: Hello, miss. What is the reason for yo...  \n",
       "3   Doctor: Are you taking any over the counter me...  \n",
       "4   Doctor: Hi, how are you? \\nPatient: I burned m...  "
      ]
     },
     "execution_count": 2,
     "metadata": {},
     "output_type": "execute_result"
    }
   ],
   "source": [
    "df = pd.read_csv(\n",
    "    filepath_or_buffer=\"clinical_notes_corpus/data/mts-dialog/MTS_Dataset_TrainingSet.csv\",\n",
    "    index_col=0\n",
    ")\n",
    "df.head(5)\n"
   ]
  },
  {
   "cell_type": "markdown",
   "metadata": {},
   "source": [
    "### Step 2: Select data\n",
    "\n",
    "The dataset contains a number of different types of dialogues."
   ]
  },
  {
   "cell_type": "code",
   "execution_count": 3,
   "metadata": {},
   "outputs": [
    {
     "data": {
      "text/plain": [
       "array(['GENHX', 'MEDICATIONS', 'CC', 'PASTMEDICALHX', 'ALLERGY',\n",
       "       'FAM/SOCHX', 'PASTSURGICAL', 'OTHER_HISTORY', 'ASSESSMENT', 'ROS',\n",
       "       'DISPOSITION', 'EXAM', 'PLAN', 'DIAGNOSIS', 'EDCOURSE',\n",
       "       'IMMUNIZATIONS', 'LABS', 'IMAGING', 'PROCEDURES', 'GYNHX'],\n",
       "      dtype=object)"
      ]
     },
     "execution_count": 3,
     "metadata": {},
     "output_type": "execute_result"
    }
   ],
   "source": [
    "df[\"section_header\"].unique()\n"
   ]
  },
  {
   "cell_type": "markdown",
   "metadata": {},
   "source": [
    "In this cell, we select an example dialogue from the dataset."
   ]
  },
  {
   "cell_type": "code",
   "execution_count": 4,
   "metadata": {},
   "outputs": [
    {
     "name": "stdout",
     "output_type": "stream",
     "text": [
      "000 Doctor: I am looking at the list of your medication.\n",
      "001 Patient: Okay.\n",
      "002 Doctor: All I can see is Risperdal and Invega.\n",
      "003 Patient: I think that is correct.\n",
      "004 Doctor: Are you not taking anything else?\n",
      "005 Patient: Yes, I take some multivitamins, but do I need to mention it?\n",
      "006 Doctor: Yes, you should. We need to know everything.\n",
      "007 Patient: Okay.\n"
     ]
    }
   ],
   "source": [
    "# Specify the type of data we need\n",
    "header = \"MEDICATIONS\"\n",
    "\n",
    "# Specify what record number we are going to use\n",
    "record = 4\n",
    "\n",
    "# This line fetches the dialogue text\n",
    "dialogue = df.query(f\"section_header=='{header}'\")[\"dialogue\"].iloc[record]\n",
    "\n",
    "# This prints out the dialogue line by line, while adding line numbers\n",
    "for i, line in enumerate(dialogue.splitlines()):\n",
    "    print(f\"{i:03d} {line}\")\n"
   ]
  },
  {
   "cell_type": "markdown",
   "metadata": {},
   "source": [
    "### Step 3: Load LLM model"
   ]
  },
  {
   "cell_type": "markdown",
   "metadata": {},
   "source": [
    "In this cell, we link to a model that has been loaded in the desktop version of LM Studio. Make sure that LM Studio application is running and the server is turned on!"
   ]
  },
  {
   "cell_type": "code",
   "execution_count": 5,
   "metadata": {},
   "outputs": [],
   "source": [
    "model = lms.llm()\n"
   ]
  },
  {
   "cell_type": "markdown",
   "metadata": {},
   "source": [
    "### Step 4: Using LLM\n",
    "\n",
    "The **system_prompt** creates the instructions for the LLM to extract information into JSON format."
   ]
  },
  {
   "cell_type": "code",
   "execution_count": 6,
   "metadata": {},
   "outputs": [],
   "source": [
    "system_prompt = \"Your job is to extract information of medications from a conversation between a Doctor and Patient (tagged [DIALOGUE]) into structured JSON format. For each medication found, populate the keys 'medication_name', 'source'. 'source' is the line number from the dialogue in the format '(xx line yy)' where xx is either Patient or Doctor and yy is the line number in the dialogue where the medication was found. Return only the JSON string without additional tags.\"\n"
   ]
  },
  {
   "cell_type": "markdown",
   "metadata": {},
   "source": [
    "Here we will send our instructions and dialogue to the LLM and retrieve our report."
   ]
  },
  {
   "cell_type": "code",
   "execution_count": 7,
   "metadata": {},
   "outputs": [
    {
     "name": "stdout",
     "output_type": "stream",
     "text": [
      "[\n",
      "  {\n",
      "    \"medication_name\": \"Risperdal\",\n",
      "    \"source\": \"(Doctor line 3)\"\n",
      "  },\n",
      "  {\n",
      "    \"medication_name\": \"Invega\",\n",
      "    \"source\": \"(Doctor line 3)\"\n",
      "  },\n",
      "  {\n",
      "    \"medication_name\": \"multivitamins\",\n",
      "    \"source\": \"(Patient line 6)\"\n",
      "  }\n",
      "]"
     ]
    }
   ],
   "source": [
    "prompt = (\n",
    "    f\"{system_prompt}\\n\"\n",
    "    f\"[DIALOGUE]\\n{dialogue}\"\n",
    ")\n",
    "\n",
    "output = \"\"\n",
    "for fragment in model.respond_stream(prompt, config={\"temperature\": 0.0}):\n",
    "    print(fragment.content, end=\"\", flush=True)\n",
    "    output += fragment.content\n"
   ]
  },
  {
   "cell_type": "markdown",
   "metadata": {},
   "source": [
    "The final step is to convert JSON in text format into machine readable format (i.e. list of dictionaries)."
   ]
  },
  {
   "cell_type": "code",
   "execution_count": 8,
   "metadata": {},
   "outputs": [
    {
     "name": "stdout",
     "output_type": "stream",
     "text": [
      "[{'medication_name': 'Risperdal', 'source': '(Doctor line 3)'},\n",
      " {'medication_name': 'Invega', 'source': '(Doctor line 3)'},\n",
      " {'medication_name': 'multivitamins', 'source': '(Patient line 6)'}]\n"
     ]
    }
   ],
   "source": [
    "import json\n",
    "from pprint import pprint\n",
    "\n",
    "medications = json.loads(output)\n",
    "pprint(medications)\n"
   ]
  },
  {
   "cell_type": "markdown",
   "metadata": {},
   "source": [
    "### Step 5: Load SNOMED concept codes"
   ]
  },
  {
   "cell_type": "code",
   "execution_count": 9,
   "metadata": {},
   "outputs": [
    {
     "name": "stdout",
     "output_type": "stream",
     "text": [
      "(13684, 2)\n",
      "Index(['conceptId', 'term'], dtype='object')\n"
     ]
    },
    {
     "data": {
      "text/html": [
       "<div>\n",
       "<style scoped>\n",
       "    .dataframe tbody tr th:only-of-type {\n",
       "        vertical-align: middle;\n",
       "    }\n",
       "\n",
       "    .dataframe tbody tr th {\n",
       "        vertical-align: top;\n",
       "    }\n",
       "\n",
       "    .dataframe thead th {\n",
       "        text-align: right;\n",
       "    }\n",
       "</style>\n",
       "<table border=\"1\" class=\"dataframe\">\n",
       "  <thead>\n",
       "    <tr style=\"text-align: right;\">\n",
       "      <th></th>\n",
       "      <th>conceptId</th>\n",
       "      <th>term</th>\n",
       "    </tr>\n",
       "  </thead>\n",
       "  <tbody>\n",
       "    <tr>\n",
       "      <th>39007292</th>\n",
       "      <td>391000036103</td>\n",
       "      <td>Anastrozole (Chemmart) (trade product)</td>\n",
       "    </tr>\n",
       "    <tr>\n",
       "      <th>39007484</th>\n",
       "      <td>401000036100</td>\n",
       "      <td>Letrozole (Chemmart) (trade product)</td>\n",
       "    </tr>\n",
       "    <tr>\n",
       "      <th>39007634</th>\n",
       "      <td>421000036105</td>\n",
       "      <td>Quetiapine (Chemmart) (trade product)</td>\n",
       "    </tr>\n",
       "    <tr>\n",
       "      <th>39007696</th>\n",
       "      <td>431000036107</td>\n",
       "      <td>Anzole (trade product)</td>\n",
       "    </tr>\n",
       "    <tr>\n",
       "      <th>39007770</th>\n",
       "      <td>421000168103</td>\n",
       "      <td>Wart Removal System (Scholl) (trade product)</td>\n",
       "    </tr>\n",
       "  </tbody>\n",
       "</table>\n",
       "</div>"
      ],
      "text/plain": [
       "             conceptId                                          term\n",
       "39007292  391000036103        Anastrozole (Chemmart) (trade product)\n",
       "39007484  401000036100          Letrozole (Chemmart) (trade product)\n",
       "39007634  421000036105         Quetiapine (Chemmart) (trade product)\n",
       "39007696  431000036107                        Anzole (trade product)\n",
       "39007770  421000168103  Wart Removal System (Scholl) (trade product)"
      ]
     },
     "execution_count": 9,
     "metadata": {},
     "output_type": "execute_result"
    }
   ],
   "source": [
    "from src.snomed_ct import get_concept_codes, CONCEPT_GROUP\n",
    "\n",
    "# We use the same process as described in the notebook:\n",
    "# examples/03_snomed_ct_amt.ipynb\n",
    "concept_codes = get_concept_codes(\n",
    "    desc_path=\"ncts_sct_rf2/Full/Terminology/sct2_Description_Full-en-au_AU1000036_20250331.txt\",\n",
    "    rel_path=\"ncts_sct_rf2/Full/Terminology/sct2_Relationship_Full_AU1000036_20250331.txt\",\n",
    "    group=CONCEPT_GROUP.PRODUCT_NAME,\n",
    "    limit=None # Use none to find everything\n",
    ")\n",
    "\n",
    "print(concept_codes.shape)\n",
    "print(concept_codes.columns)\n",
    "concept_codes.head(5)\n"
   ]
  },
  {
   "cell_type": "markdown",
   "metadata": {},
   "source": [
    "### Step 6: Match medication names to concept codes\n",
    "\n",
    "In this cell, we:\n",
    "- Loop through each of the extracted medications,\n",
    "- Use fuzzy matching to extract the most similar concept term, then\n",
    "- Look up the concept ID."
   ]
  },
  {
   "cell_type": "code",
   "execution_count": 10,
   "metadata": {},
   "outputs": [
    {
     "name": "stdout",
     "output_type": "stream",
     "text": [
      "Extracted medication: Risperdal\n"
     ]
    },
    {
     "data": {
      "text/html": [
       "<div>\n",
       "<style scoped>\n",
       "    .dataframe tbody tr th:only-of-type {\n",
       "        vertical-align: middle;\n",
       "    }\n",
       "\n",
       "    .dataframe tbody tr th {\n",
       "        vertical-align: top;\n",
       "    }\n",
       "\n",
       "    .dataframe thead th {\n",
       "        text-align: right;\n",
       "    }\n",
       "</style>\n",
       "<table border=\"1\" class=\"dataframe\">\n",
       "  <thead>\n",
       "    <tr style=\"text-align: right;\">\n",
       "      <th></th>\n",
       "      <th>term</th>\n",
       "      <th>similarity_score</th>\n",
       "      <th>concept_code</th>\n",
       "    </tr>\n",
       "  </thead>\n",
       "  <tbody>\n",
       "    <tr>\n",
       "      <th>0</th>\n",
       "      <td>Risperdal Quicklet (trade product)</td>\n",
       "      <td>90.000000</td>\n",
       "      <td>10371000168103</td>\n",
       "    </tr>\n",
       "    <tr>\n",
       "      <th>1</th>\n",
       "      <td>Risperdal (trade product)</td>\n",
       "      <td>90.000000</td>\n",
       "      <td>15481000168100</td>\n",
       "    </tr>\n",
       "    <tr>\n",
       "      <th>2</th>\n",
       "      <td>Risperdal Consta (trade product)</td>\n",
       "      <td>90.000000</td>\n",
       "      <td>37741000168104</td>\n",
       "    </tr>\n",
       "    <tr>\n",
       "      <th>3</th>\n",
       "      <td>Risperidone (Apo) (trade product)</td>\n",
       "      <td>74.117647</td>\n",
       "      <td>631000168102</td>\n",
       "    </tr>\n",
       "    <tr>\n",
       "      <th>4</th>\n",
       "      <td>Risperidone (Actavis) (trade product)</td>\n",
       "      <td>74.117647</td>\n",
       "      <td>9261000168107</td>\n",
       "    </tr>\n",
       "  </tbody>\n",
       "</table>\n",
       "</div>"
      ],
      "text/plain": [
       "                                    term  similarity_score    concept_code\n",
       "0     Risperdal Quicklet (trade product)         90.000000  10371000168103\n",
       "1              Risperdal (trade product)         90.000000  15481000168100\n",
       "2       Risperdal Consta (trade product)         90.000000  37741000168104\n",
       "3      Risperidone (Apo) (trade product)         74.117647    631000168102\n",
       "4  Risperidone (Actavis) (trade product)         74.117647   9261000168107"
      ]
     },
     "metadata": {},
     "output_type": "display_data"
    },
    {
     "name": "stdout",
     "output_type": "stream",
     "text": [
      "\n",
      "Extracted medication: Invega\n"
     ]
    },
    {
     "data": {
      "text/html": [
       "<div>\n",
       "<style scoped>\n",
       "    .dataframe tbody tr th:only-of-type {\n",
       "        vertical-align: middle;\n",
       "    }\n",
       "\n",
       "    .dataframe tbody tr th {\n",
       "        vertical-align: top;\n",
       "    }\n",
       "\n",
       "    .dataframe thead th {\n",
       "        text-align: right;\n",
       "    }\n",
       "</style>\n",
       "<table border=\"1\" class=\"dataframe\">\n",
       "  <thead>\n",
       "    <tr style=\"text-align: right;\">\n",
       "      <th></th>\n",
       "      <th>term</th>\n",
       "      <th>similarity_score</th>\n",
       "      <th>concept_code</th>\n",
       "    </tr>\n",
       "  </thead>\n",
       "  <tbody>\n",
       "    <tr>\n",
       "      <th>0</th>\n",
       "      <td>Invega (trade product)</td>\n",
       "      <td>90.0</td>\n",
       "      <td>2081000168101</td>\n",
       "    </tr>\n",
       "    <tr>\n",
       "      <th>1</th>\n",
       "      <td>Invega Sustenna (trade product)</td>\n",
       "      <td>90.0</td>\n",
       "      <td>26461000168105</td>\n",
       "    </tr>\n",
       "    <tr>\n",
       "      <th>2</th>\n",
       "      <td>Invega Trinza (trade product)</td>\n",
       "      <td>90.0</td>\n",
       "      <td>857421000168101</td>\n",
       "    </tr>\n",
       "    <tr>\n",
       "      <th>3</th>\n",
       "      <td>Invega Hafyera (trade product)</td>\n",
       "      <td>90.0</td>\n",
       "      <td>1625181000168106</td>\n",
       "    </tr>\n",
       "    <tr>\n",
       "      <th>4</th>\n",
       "      <td>Invast (trade product)</td>\n",
       "      <td>72.0</td>\n",
       "      <td>945591000168100</td>\n",
       "    </tr>\n",
       "  </tbody>\n",
       "</table>\n",
       "</div>"
      ],
      "text/plain": [
       "                              term  similarity_score      concept_code\n",
       "0           Invega (trade product)              90.0     2081000168101\n",
       "1  Invega Sustenna (trade product)              90.0    26461000168105\n",
       "2    Invega Trinza (trade product)              90.0   857421000168101\n",
       "3   Invega Hafyera (trade product)              90.0  1625181000168106\n",
       "4           Invast (trade product)              72.0   945591000168100"
      ]
     },
     "metadata": {},
     "output_type": "display_data"
    },
    {
     "name": "stdout",
     "output_type": "stream",
     "text": [
      "\n",
      "Extracted medication: multivitamins\n"
     ]
    },
    {
     "data": {
      "text/html": [
       "<div>\n",
       "<style scoped>\n",
       "    .dataframe tbody tr th:only-of-type {\n",
       "        vertical-align: middle;\n",
       "    }\n",
       "\n",
       "    .dataframe tbody tr th {\n",
       "        vertical-align: top;\n",
       "    }\n",
       "\n",
       "    .dataframe thead th {\n",
       "        text-align: right;\n",
       "    }\n",
       "</style>\n",
       "<table border=\"1\" class=\"dataframe\">\n",
       "  <thead>\n",
       "    <tr style=\"text-align: right;\">\n",
       "      <th></th>\n",
       "      <th>term</th>\n",
       "      <th>similarity_score</th>\n",
       "      <th>concept_code</th>\n",
       "    </tr>\n",
       "  </thead>\n",
       "  <tbody>\n",
       "    <tr>\n",
       "      <th>0</th>\n",
       "      <td>Penta-vite Multivitamins with Iron for Kids 1 ...</td>\n",
       "      <td>83.076923</td>\n",
       "      <td>750311000168100</td>\n",
       "    </tr>\n",
       "    <tr>\n",
       "      <th>1</th>\n",
       "      <td>Penta-vite Multivitamins for Infants 0 to 3 Ye...</td>\n",
       "      <td>83.076923</td>\n",
       "      <td>751271000168106</td>\n",
       "    </tr>\n",
       "    <tr>\n",
       "      <th>2</th>\n",
       "      <td>Multivitamin (Health Plus Vitamins) (trade pro...</td>\n",
       "      <td>79.200000</td>\n",
       "      <td>1113431000168107</td>\n",
       "    </tr>\n",
       "    <tr>\n",
       "      <th>3</th>\n",
       "      <td>Multivitamin (Voost) (trade product)</td>\n",
       "      <td>79.200000</td>\n",
       "      <td>1444461000168105</td>\n",
       "    </tr>\n",
       "    <tr>\n",
       "      <th>4</th>\n",
       "      <td>Multivitamin plus Iron Kids 2 to 12 Years (Pen...</td>\n",
       "      <td>79.200000</td>\n",
       "      <td>1523181000168101</td>\n",
       "    </tr>\n",
       "  </tbody>\n",
       "</table>\n",
       "</div>"
      ],
      "text/plain": [
       "                                                term  similarity_score  \\\n",
       "0  Penta-vite Multivitamins with Iron for Kids 1 ...         83.076923   \n",
       "1  Penta-vite Multivitamins for Infants 0 to 3 Ye...         83.076923   \n",
       "2  Multivitamin (Health Plus Vitamins) (trade pro...         79.200000   \n",
       "3               Multivitamin (Voost) (trade product)         79.200000   \n",
       "4  Multivitamin plus Iron Kids 2 to 12 Years (Pen...         79.200000   \n",
       "\n",
       "       concept_code  \n",
       "0   750311000168100  \n",
       "1   751271000168106  \n",
       "2  1113431000168107  \n",
       "3  1444461000168105  \n",
       "4  1523181000168101  "
      ]
     },
     "metadata": {},
     "output_type": "display_data"
    },
    {
     "name": "stdout",
     "output_type": "stream",
     "text": [
      "\n"
     ]
    }
   ],
   "source": [
    "from rapidfuzz.process import extract\n",
    "\n",
    "# Loop through each medication\n",
    "for medication in medications:\n",
    "    query = medication[\"medication_name\"]\n",
    "    print(f\"Extracted medication: {query}\")\n",
    "\n",
    "    # Use fuzzy matching to extract the most similar concept term\n",
    "    matches = extract(\n",
    "        query=query,\n",
    "        choices=concept_codes[\"term\"].tolist(), # We are only using concept term\n",
    "        limit=5\n",
    "    )\n",
    "    # Returns [choice, similarity score, index of choice]\n",
    "\n",
    "    # Match to concept code\n",
    "    matches = pd.DataFrame([\n",
    "        {\n",
    "            \"term\": term,\n",
    "            \"similarity_score\": similarity_score,\n",
    "            \"concept_code\": str(concept_codes.iloc[index][\"conceptId\"])\n",
    "        }\n",
    "        for term, similarity_score, index in matches\n",
    "    ])\n",
    "\n",
    "    display(matches)\n",
    "    print()\n"
   ]
  }
 ],
 "metadata": {
  "kernelspec": {
   "display_name": ".venv",
   "language": "python",
   "name": "python3"
  },
  "language_info": {
   "codemirror_mode": {
    "name": "ipython",
    "version": 3
   },
   "file_extension": ".py",
   "mimetype": "text/x-python",
   "name": "python",
   "nbconvert_exporter": "python",
   "pygments_lexer": "ipython3",
   "version": "3.12.7"
  }
 },
 "nbformat": 4,
 "nbformat_minor": 2
}
