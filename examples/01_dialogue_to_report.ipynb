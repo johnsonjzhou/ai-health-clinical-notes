{
 "cells": [
  {
   "cell_type": "markdown",
   "metadata": {},
   "source": [
    "## Summarising patient-doctor dialogue\n",
    "\n",
    "This example uses LM Studio and an off-the-shelf large language studio (LLM) to summarise patient-doctor dialogue into a structured report.\n",
    "\n",
    "Tools used:\n",
    "- Python Data Analysis Library (Pandas) ([link](https://pandas.pydata.org/))\n",
    "- LM Studio Python SDK ([link](https://lmstudio.ai/docs/python)). Note that the LM Studio desktop application must be running and the server is enabled within the application.\n",
    "\n",
    "Data used:\n",
    "- Clinical visit note summarisation corpus ([link](https://github.com/microsoft/clinical_visit_note_summarization_corpus))\n"
   ]
  },
  {
   "cell_type": "code",
   "execution_count": 1,
   "metadata": {},
   "outputs": [],
   "source": [
    "# This cell loads required packages\n",
    "import pandas as pd\n",
    "import lmstudio as lms\n",
    "from pydantic import BaseModel\n",
    "from pprint import pprint\n"
   ]
  },
  {
   "cell_type": "markdown",
   "metadata": {},
   "source": [
    "### Step 1: Load data as a Pandas DataFrame"
   ]
  },
  {
   "cell_type": "code",
   "execution_count": null,
   "metadata": {},
   "outputs": [
    {
     "data": {
      "text/html": [
       "<div>\n",
       "<style scoped>\n",
       "    .dataframe tbody tr th:only-of-type {\n",
       "        vertical-align: middle;\n",
       "    }\n",
       "\n",
       "    .dataframe tbody tr th {\n",
       "        vertical-align: top;\n",
       "    }\n",
       "\n",
       "    .dataframe thead th {\n",
       "        text-align: right;\n",
       "    }\n",
       "</style>\n",
       "<table border=\"1\" class=\"dataframe\">\n",
       "  <thead>\n",
       "    <tr style=\"text-align: right;\">\n",
       "      <th></th>\n",
       "      <th>section_header</th>\n",
       "      <th>section_text</th>\n",
       "      <th>dialogue</th>\n",
       "    </tr>\n",
       "    <tr>\n",
       "      <th>ID</th>\n",
       "      <th></th>\n",
       "      <th></th>\n",
       "      <th></th>\n",
       "    </tr>\n",
       "  </thead>\n",
       "  <tbody>\n",
       "    <tr>\n",
       "      <th>0</th>\n",
       "      <td>GENHX</td>\n",
       "      <td>The patient is a 76-year-old white female who ...</td>\n",
       "      <td>Doctor: What brings you back into the clinic t...</td>\n",
       "    </tr>\n",
       "    <tr>\n",
       "      <th>1</th>\n",
       "      <td>GENHX</td>\n",
       "      <td>The patient is a 25-year-old right-handed Cauc...</td>\n",
       "      <td>Doctor: How're you feeling today?  \\nPatient: ...</td>\n",
       "    </tr>\n",
       "    <tr>\n",
       "      <th>2</th>\n",
       "      <td>GENHX</td>\n",
       "      <td>This is a 22-year-old female, who presented to...</td>\n",
       "      <td>Doctor: Hello, miss. What is the reason for yo...</td>\n",
       "    </tr>\n",
       "    <tr>\n",
       "      <th>3</th>\n",
       "      <td>MEDICATIONS</td>\n",
       "      <td>Prescribed medications were Salmeterol inhaler...</td>\n",
       "      <td>Doctor: Are you taking any over the counter me...</td>\n",
       "    </tr>\n",
       "    <tr>\n",
       "      <th>4</th>\n",
       "      <td>CC</td>\n",
       "      <td>Burn, right arm.</td>\n",
       "      <td>Doctor: Hi, how are you? \\nPatient: I burned m...</td>\n",
       "    </tr>\n",
       "  </tbody>\n",
       "</table>\n",
       "</div>"
      ],
      "text/plain": [
       "   section_header                                       section_text  \\\n",
       "ID                                                                     \n",
       "0           GENHX  The patient is a 76-year-old white female who ...   \n",
       "1           GENHX  The patient is a 25-year-old right-handed Cauc...   \n",
       "2           GENHX  This is a 22-year-old female, who presented to...   \n",
       "3     MEDICATIONS  Prescribed medications were Salmeterol inhaler...   \n",
       "4              CC                                   Burn, right arm.   \n",
       "\n",
       "                                             dialogue  \n",
       "ID                                                     \n",
       "0   Doctor: What brings you back into the clinic t...  \n",
       "1   Doctor: How're you feeling today?  \\nPatient: ...  \n",
       "2   Doctor: Hello, miss. What is the reason for yo...  \n",
       "3   Doctor: Are you taking any over the counter me...  \n",
       "4   Doctor: Hi, how are you? \\nPatient: I burned m...  "
      ]
     },
     "execution_count": 2,
     "metadata": {},
     "output_type": "execute_result"
    }
   ],
   "source": [
    "df = pd.read_csv(\n",
    "    filepath_or_buffer = \"clinical_notes_corpus/data/mts-dialog/MTS_Dataset_TrainingSet.csv\",\n",
    "    index_col          = 0\n",
    "    )\n",
    "\n",
    "df.head(5)\n"
   ]
  },
  {
   "cell_type": "markdown",
   "metadata": {},
   "source": [
    "### Step 2: Select data\n",
    "\n",
    "The dataset contains a number of different types of dialogues."
   ]
  },
  {
   "cell_type": "code",
   "execution_count": 3,
   "metadata": {},
   "outputs": [
    {
     "data": {
      "text/plain": [
       "array(['GENHX', 'MEDICATIONS', 'CC', 'PASTMEDICALHX', 'ALLERGY',\n",
       "       'FAM/SOCHX', 'PASTSURGICAL', 'OTHER_HISTORY', 'ASSESSMENT', 'ROS',\n",
       "       'DISPOSITION', 'EXAM', 'PLAN', 'DIAGNOSIS', 'EDCOURSE',\n",
       "       'IMMUNIZATIONS', 'LABS', 'IMAGING', 'PROCEDURES', 'GYNHX'],\n",
       "      dtype=object)"
      ]
     },
     "execution_count": 3,
     "metadata": {},
     "output_type": "execute_result"
    }
   ],
   "source": [
    "df[\"section_header\"].unique()\n"
   ]
  },
  {
   "cell_type": "markdown",
   "metadata": {},
   "source": [
    "In this cell, we select an example diaglogue from the dataset."
   ]
  },
  {
   "cell_type": "code",
   "execution_count": 4,
   "metadata": {},
   "outputs": [
    {
     "name": "stdout",
     "output_type": "stream",
     "text": [
      "000 Doctor: I hear someone has a birthday coming up, how old are you turning, ma'am?\n",
      "001 Patient: I'll be ninety later this month, doctor. \n",
      "002 Doctor: You're here for a follow up not very long after your first visit. What seems to be the problem today? \n",
      "003 Patient: Well, actually, my high blood pressure and right arm symptoms are basically gone. \n",
      "004 Doctor: Great, I saw your blood pressure reading for today, and it's much better. Are you taking the higher dose of Mavik we recommended? \n",
      "005 Patient: No, I'm not taking that right now. \n",
      "006 Doctor: How did you tolerate the higher dose? \n",
      "007 Patient: I didn't feel well at all, so I just went back to the old dose. \n",
      "008 Doctor: That was one M G per day, correct? \n",
      "009 Patient: Yes, doctor. I do think I could have some white coat high blood pressure. Doctors' offices make me nervous. \n",
      "010 Doctor: That does happen. Here, try this sample of Tarka, please. \n",
      "011 Patient: What is this for, doctor? \n",
      "012 Doctor: Well, since you're taking the Mavik plus verapamil, you can switch over to Tarka, which is the combined version of the two drugs. \n",
      "013 Patient: I can't take these, doctor. They're too big. \n",
      "014 Guest_family: Hello doctor, I'm her daughter. Just so you know, we check her blood pressure at home periodically and it's always similar to that reading. \n",
      "015 Doctor: Good, so back to that right arm, how is that doing today?\n",
      "016 Patient: Well, that pain is basically gone now, I think it had to do with that muscle problem back in my right shoulder blade. \n",
      "017 Doctor: Did you have x rays taken today? \n",
      "018 Patient: Yes, the tech brought me back right before you came in. \n",
      "019 Doctor: Good, I have the images right here. \n",
      "020 Patient: What do they show, doctor?\n",
      "021 Doctor: Well, these x rays of the neck and right shoulder show some degenerative changes, and possibly some kind of rotator cuff injury. \n",
      "022 Patient: What makes you think there's an injury? \n",
      "023 Doctor: Well, look right here. The humeral head is pretty high in the glenoid in the right shoulder, but do you have any pain here? \n",
      "024 Patient: No, none. \n",
      "025 Doctor: Then we won't worry about it. \n",
      "026 Patient: I am having this stomach pain though, doctor.\n",
      "027 Doctor: How has this pain developed and progressed recently? \n",
      "028 Patient: Well, it's improved somewhat with me not taking Aleve anymore. \n",
      "029 Doctor: What medicines are you taking right now, then? \n",
      "030 Patient: Right know, I'm just taking Tylenol as needed. That seems to be enough for me. \n",
      "031 Doctor: Do you think this could be acid reflux, or heartburn?\n",
      "032 Patient: No, but I take Tums, um, three times a day, and Mylanta at night. Oh yeah, I have these sores in my mouth, can you take a look? \n",
      "033 Doctor: I see. How long have you worn dentures? \n",
      "034 Patient: Oh I couldn't even tell you, it's been many, many years. \n",
      "035 Doctor: Do they come and go, the sores? \n",
      "036 Patient: Yes, one will come, then it'll heal up, then another. \n",
      "037 Doctor: Okay, we'll keep an eye on it. \n",
      "038 Patient: And doctor, since I've been taking the Lexapro, I have some tremors on basically my whole body, at least the upper body, like my torso and arms. \n",
      "039 Doctor: It's hard to tell if you have a tremor today, ma'am, but do you think the Lexapro is helping otherwise? \n",
      "040 Patient: Yes, we think so.\n"
     ]
    }
   ],
   "source": [
    "# Specify the type of data we need\n",
    "header = \"GENHX\"\n",
    "\n",
    "# Specify what record number we are going to use\n",
    "record = 4\n",
    "\n",
    "# This line fetches the dialogue text\n",
    "dialogue = df.query(f\"section_header=='{header}'\")[\"dialogue\"].iloc[record]\n",
    "\n",
    "# This prints out the dialogue line by line, while adding line numbers\n",
    "for i, line in enumerate(dialogue.splitlines()):\n",
    "    print(f\"{i:03d} {line}\")\n"
   ]
  },
  {
   "cell_type": "markdown",
   "metadata": {},
   "source": [
    "### Load LLM model"
   ]
  },
  {
   "cell_type": "markdown",
   "metadata": {},
   "source": [
    "In this cell, we link to a model that has been loaded in the desktop version of LM Studio. Make sure that LM Studio application is running and the server is turned on!"
   ]
  },
  {
   "cell_type": "code",
   "execution_count": 5,
   "metadata": {},
   "outputs": [],
   "source": [
    "model = lms.llm()\n"
   ]
  },
  {
   "cell_type": "markdown",
   "metadata": {},
   "source": [
    "### Using LLM\n",
    "\n",
    "The **system_prompt** creates the instructions for the LLM to create our structured report."
   ]
  },
  {
   "cell_type": "code",
   "execution_count": 6,
   "metadata": {},
   "outputs": [],
   "source": [
    "system_prompt = \"Your job is to extract information from a conversation between a Doctor and Patient (tagged [DIALOGUE]) into a structured and concise report The report must contain the headers: 'Age', 'Gender', 'Reason for visit', 'Current symptoms', 'Diagnosis', 'Investigations', 'Medications', 'Medical History'. For 'current symptoms', use one bullet point for each symptom. For 'diagnosis', use one bullet for each condition explicitly state by the doctor. For 'investigations', use one bullet point for each examination, test or procedure conducted explicitly stated by the doctor. For 'medications', use one bullet point for each 'medication', and sub-bullets for 'dosage', 'currently taking (yes/no)', 'remarks'. For medical history', use one bullet point for each 'condition', and sub-bullets for 'diagnosed date', 'remarks'. If any information is not present in the dialogue, indicate it with 'Not specified'. Respond only with the report text. All medication names, condition names, information, remarks must indicate the source line number from the dialogue in the format '(xx line yy)' where xx is either Patient or Doctor and yy is the line number. Do not include information not explicitly stated in the dialogue and indicated by source.\"\n"
   ]
  },
  {
   "cell_type": "markdown",
   "metadata": {},
   "source": [
    "Here we will send our instructions and dialogue to the LLM and retrieve our report."
   ]
  },
  {
   "cell_type": "code",
   "execution_count": null,
   "metadata": {},
   "outputs": [
    {
     "name": "stdout",
     "output_type": "stream",
     "text": [
      "{ \"age\": 90, \"current_symptoms\": [ \"Stomach pain\", \"Mouth sores\", \"Tremors in upper body\", \"Pain in right arm\" ], \"diagnosis\": [ \"High blood pressure\", \"Degenerative changes in neck and right shoulder\", \"Possible rotator cuff injury\" ], \"gender\": \"Female\", \"investigations\": [ \"X-rays of the neck and right shoulder\", \"Blood pressure reading\" ], \"medical_history\": [ { \"condition\": \"High blood pressure\", \"diagnosed_date\": \"Not specified\", \"remarks\": \"Improved with medication adjustment\" }, { \"condition\": \"Muscle problem in right shoulder blade\", \"diagnosed_date\": \"Not specified\", \"remarks\": \"Pain basically gone\" }, { \"condition\": \"Mouth sores\", \"diagnosed_date\": \"Not specified\", \"remarks\": \"Recurring\" }, { \"condition\": \"Tremors\", \"diagnosed_date\": \"Since taking Lexapro\", \"remarks\": \"Upper body tremors\" } ], \"medications\": [ { \"currently_taking\": true, \"dosage\": \"Tylenol as needed\", \"medication\": \"Tylenol\" }, { \"currently_taking\": true, \"dosage\": \"Tums three times a day\", \"medication\": \"Tums\" }, { \"currently_taking\": true, \"dosage\": \"Mylanta at night\", \"medication\": \"Mylanta\" }, { \"currently_taking\": false, \"dosage\": \"1 MG per day\", \"medication\": \"Mavik\" }, { \"currently_taking\": false, \"dosage\": \"Not specified\", \"medication\": \"Verapamil\" }, { \"currently_taking\": true, \"dosage\": \"Not specified\", \"medication\": \"Lexapro\" } ] , \"reason_for_visit\": [ \"Follow up after first visit\", \"Stomach pain\", \"Mouth sores\", \"Tremors\" ] }\n",
      "{'age': 90,\n",
      " 'current_symptoms': ['Stomach pain',\n",
      "                      'Mouth sores',\n",
      "                      'Tremors in upper body',\n",
      "                      'Pain in right arm'],\n",
      " 'diagnosis': ['High blood pressure',\n",
      "               'Degenerative changes in neck and right shoulder',\n",
      "               'Possible rotator cuff injury'],\n",
      " 'gender': 'Female',\n",
      " 'investigations': ['X-rays of the neck and right shoulder',\n",
      "                    'Blood pressure reading'],\n",
      " 'medical_history': [{'condition': 'High blood pressure',\n",
      "                      'diagnosed_date': 'Not specified',\n",
      "                      'remarks': 'Improved with medication adjustment'},\n",
      "                     {'condition': 'Muscle problem in right shoulder blade',\n",
      "                      'diagnosed_date': 'Not specified',\n",
      "                      'remarks': 'Pain basically gone'},\n",
      "                     {'condition': 'Mouth sores',\n",
      "                      'diagnosed_date': 'Not specified',\n",
      "                      'remarks': 'Recurring'},\n",
      "                     {'condition': 'Tremors',\n",
      "                      'diagnosed_date': 'Since taking Lexapro',\n",
      "                      'remarks': 'Upper body tremors'}],\n",
      " 'medications': [{'currently_taking': True,\n",
      "                  'dosage': 'Tylenol as needed',\n",
      "                  'medication': 'Tylenol'},\n",
      "                 {'currently_taking': True,\n",
      "                  'dosage': 'Tums three times a day',\n",
      "                  'medication': 'Tums'},\n",
      "                 {'currently_taking': True,\n",
      "                  'dosage': 'Mylanta at night',\n",
      "                  'medication': 'Mylanta'},\n",
      "                 {'currently_taking': False,\n",
      "                  'dosage': '1 MG per day',\n",
      "                  'medication': 'Mavik'},\n",
      "                 {'currently_taking': False,\n",
      "                  'dosage': 'Not specified',\n",
      "                  'medication': 'Verapamil'},\n",
      "                 {'currently_taking': True,\n",
      "                  'dosage': 'Not specified',\n",
      "                  'medication': 'Lexapro'}],\n",
      " 'reason_for_visit': ['Follow up after first visit',\n",
      "                      'Stomach pain',\n",
      "                      'Mouth sores',\n",
      "                      'Tremors']}\n"
     ]
    }
   ],
   "source": [
    "prompt = (\n",
    "    f\"{system_prompt}\\n\"\n",
    "    f\"[DIALOGUE]\\n{dialogue}\"\n",
    "    )\n",
    "\n",
    "class Condition(BaseModel):\n",
    "    condition:      str\n",
    "    diagnosed_date: str\n",
    "    remarks:        str\n",
    "\n",
    "class Medication(BaseModel):\n",
    "    medication:       str\n",
    "    dosage:           str\n",
    "    currently_taking: bool\n",
    "\n",
    "class StructuredNote(BaseModel):\n",
    "    age:              int\n",
    "    gender:           str\n",
    "    reason_for_visit: list[str]\n",
    "    current_symptoms: list[str]\n",
    "    diagnosis:        list[str]\n",
    "    investigations:   list[str]\n",
    "    medications:      list[Medication]\n",
    "    medical_history:  list[Condition]\n",
    "\n",
    "output = \"\"\n",
    "prediction_stream = model.respond_stream(\n",
    "    prompt,\n",
    "    config={\"temperature\": 0.0},\n",
    "    response_format=StructuredNote\n",
    "    )\n",
    "for fragment in prediction_stream:\n",
    "    print(fragment.content, end=\"\", flush=True)\n",
    "    output += fragment.content\n",
    "print()\n",
    "\n",
    "structured_output = prediction_stream.result().parsed\n",
    "pprint(structured_output)\n"
   ]
  }
 ],
 "metadata": {
  "kernelspec": {
   "display_name": ".venv",
   "language": "python",
   "name": "python3"
  },
  "language_info": {
   "codemirror_mode": {
    "name": "ipython",
    "version": 3
   },
   "file_extension": ".py",
   "mimetype": "text/x-python",
   "name": "python",
   "nbconvert_exporter": "python",
   "pygments_lexer": "ipython3",
   "version": "3.12.7"
  }
 },
 "nbformat": 4,
 "nbformat_minor": 2
}
