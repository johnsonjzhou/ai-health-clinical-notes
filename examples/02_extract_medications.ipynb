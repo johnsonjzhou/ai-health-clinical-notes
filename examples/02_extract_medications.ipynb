{
 "cells": [
  {
   "cell_type": "markdown",
   "metadata": {},
   "source": [
    "## Extract medications\n",
    "\n",
    "This example uses an LM Studio and an off-the-shelf LLM to extract medications from patient-doctor dialogue into structured machine readable format (i.e. JSON)."
   ]
  },
  {
   "cell_type": "markdown",
   "metadata": {},
   "source": [
    "### Load data"
   ]
  },
  {
   "cell_type": "code",
   "execution_count": 1,
   "metadata": {},
   "outputs": [
    {
     "data": {
      "text/html": [
       "<div>\n",
       "<style scoped>\n",
       "    .dataframe tbody tr th:only-of-type {\n",
       "        vertical-align: middle;\n",
       "    }\n",
       "\n",
       "    .dataframe tbody tr th {\n",
       "        vertical-align: top;\n",
       "    }\n",
       "\n",
       "    .dataframe thead th {\n",
       "        text-align: right;\n",
       "    }\n",
       "</style>\n",
       "<table border=\"1\" class=\"dataframe\">\n",
       "  <thead>\n",
       "    <tr style=\"text-align: right;\">\n",
       "      <th></th>\n",
       "      <th>section_header</th>\n",
       "      <th>section_text</th>\n",
       "      <th>dialogue</th>\n",
       "    </tr>\n",
       "    <tr>\n",
       "      <th>ID</th>\n",
       "      <th></th>\n",
       "      <th></th>\n",
       "      <th></th>\n",
       "    </tr>\n",
       "  </thead>\n",
       "  <tbody>\n",
       "    <tr>\n",
       "      <th>0</th>\n",
       "      <td>GENHX</td>\n",
       "      <td>The patient is a 76-year-old white female who ...</td>\n",
       "      <td>Doctor: What brings you back into the clinic t...</td>\n",
       "    </tr>\n",
       "    <tr>\n",
       "      <th>1</th>\n",
       "      <td>GENHX</td>\n",
       "      <td>The patient is a 25-year-old right-handed Cauc...</td>\n",
       "      <td>Doctor: How're you feeling today?  \\nPatient: ...</td>\n",
       "    </tr>\n",
       "    <tr>\n",
       "      <th>2</th>\n",
       "      <td>GENHX</td>\n",
       "      <td>This is a 22-year-old female, who presented to...</td>\n",
       "      <td>Doctor: Hello, miss. What is the reason for yo...</td>\n",
       "    </tr>\n",
       "    <tr>\n",
       "      <th>3</th>\n",
       "      <td>MEDICATIONS</td>\n",
       "      <td>Prescribed medications were Salmeterol inhaler...</td>\n",
       "      <td>Doctor: Are you taking any over the counter me...</td>\n",
       "    </tr>\n",
       "    <tr>\n",
       "      <th>4</th>\n",
       "      <td>CC</td>\n",
       "      <td>Burn, right arm.</td>\n",
       "      <td>Doctor: Hi, how are you? \\nPatient: I burned m...</td>\n",
       "    </tr>\n",
       "  </tbody>\n",
       "</table>\n",
       "</div>"
      ],
      "text/plain": [
       "   section_header                                       section_text  \\\n",
       "ID                                                                     \n",
       "0           GENHX  The patient is a 76-year-old white female who ...   \n",
       "1           GENHX  The patient is a 25-year-old right-handed Cauc...   \n",
       "2           GENHX  This is a 22-year-old female, who presented to...   \n",
       "3     MEDICATIONS  Prescribed medications were Salmeterol inhaler...   \n",
       "4              CC                                   Burn, right arm.   \n",
       "\n",
       "                                             dialogue  \n",
       "ID                                                     \n",
       "0   Doctor: What brings you back into the clinic t...  \n",
       "1   Doctor: How're you feeling today?  \\nPatient: ...  \n",
       "2   Doctor: Hello, miss. What is the reason for yo...  \n",
       "3   Doctor: Are you taking any over the counter me...  \n",
       "4   Doctor: Hi, how are you? \\nPatient: I burned m...  "
      ]
     },
     "execution_count": 1,
     "metadata": {},
     "output_type": "execute_result"
    }
   ],
   "source": [
    "import pandas as pd\n",
    "ds = pd.read_csv(\n",
    "    filepath_or_buffer=\"clinical_notes_corpus/data/mts-dialog/MTS_Dataset_TrainingSet.csv\",\n",
    "    index_col=0\n",
    ")\n",
    "ds.head(5)\n"
   ]
  },
  {
   "cell_type": "code",
   "execution_count": 2,
   "metadata": {},
   "outputs": [
    {
     "data": {
      "text/plain": [
       "array(['GENHX', 'MEDICATIONS', 'CC', 'PASTMEDICALHX', 'ALLERGY',\n",
       "       'FAM/SOCHX', 'PASTSURGICAL', 'OTHER_HISTORY', 'ASSESSMENT', 'ROS',\n",
       "       'DISPOSITION', 'EXAM', 'PLAN', 'DIAGNOSIS', 'EDCOURSE',\n",
       "       'IMMUNIZATIONS', 'LABS', 'IMAGING', 'PROCEDURES', 'GYNHX'],\n",
       "      dtype=object)"
      ]
     },
     "execution_count": 2,
     "metadata": {},
     "output_type": "execute_result"
    }
   ],
   "source": [
    "ds[\"section_header\"].unique()\n"
   ]
  },
  {
   "cell_type": "code",
   "execution_count": 3,
   "metadata": {},
   "outputs": [
    {
     "name": "stdout",
     "output_type": "stream",
     "text": [
      "000 Doctor: I am looking at the list of your medication.\n",
      "001 Patient: Okay.\n",
      "002 Doctor: All I can see is Risperdal and Invega.\n",
      "003 Patient: I think that is correct.\n",
      "004 Doctor: Are you not taking anything else?\n",
      "005 Patient: Yes, I take some multivitamins, but do I need to mention it?\n",
      "006 Doctor: Yes, you should. We need to know everything.\n",
      "007 Patient: Okay.\n"
     ]
    }
   ],
   "source": [
    "header = \"MEDICATIONS\"\n",
    "record = 4\n",
    "dialogue = ds.query(f\"section_header=='{header}'\")[\"dialogue\"].iloc[record]\n",
    "for i, line in enumerate(dialogue.splitlines()):\n",
    "    print(f\"{i:03d} {line}\")\n"
   ]
  },
  {
   "cell_type": "markdown",
   "metadata": {},
   "source": [
    "### Load LLM model"
   ]
  },
  {
   "cell_type": "code",
   "execution_count": 4,
   "metadata": {},
   "outputs": [],
   "source": [
    "import lmstudio as lms\n",
    "model = lms.llm(\"llama-3.3-70b-instruct\")\n"
   ]
  },
  {
   "cell_type": "markdown",
   "metadata": {},
   "source": [
    "### Using LLM\n",
    "\n",
    "The **system_prompt** creates the instructions for the LLM to extract information into JSON format."
   ]
  },
  {
   "cell_type": "code",
   "execution_count": 5,
   "metadata": {},
   "outputs": [],
   "source": [
    "system_prompt = \"Your job is to extract information of medications from a conversation between a Doctor and Patient (tagged [DIALOGUE]) into structured JSON format. For each medication found, populate the keys 'medication_name', 'line'. 'line' refers to the dialogue line number which the medication was found. Return only the JSON string without additional tags.\"\n"
   ]
  },
  {
   "cell_type": "markdown",
   "metadata": {},
   "source": [
    "Here we will send our instructions and dialogue to the LLM and retrieve our report."
   ]
  },
  {
   "cell_type": "code",
   "execution_count": 6,
   "metadata": {},
   "outputs": [
    {
     "name": "stdout",
     "output_type": "stream",
     "text": [
      "[\n",
      "  {\n",
      "    \"medication_name\": \"Risperdal\",\n",
      "    \"line\": 2\n",
      "  },\n",
      "  {\n",
      "    \"medication_name\": \"Invega\",\n",
      "    \"line\": 2\n",
      "  },\n",
      "  {\n",
      "    \"medication_name\": \"multivitamins\",\n",
      "    \"line\": 5\n",
      "  }\n",
      "]"
     ]
    }
   ],
   "source": [
    "prompt = (\n",
    "    f\"{system_prompt}\\n\"\n",
    "    f\"[DIALOGUE]\\n{dialogue}\"\n",
    ")\n",
    "\n",
    "output = \"\"\n",
    "for fragment in model.respond_stream(prompt):\n",
    "    print(fragment.content, end=\"\", flush=True)\n",
    "    output += fragment.content\n"
   ]
  },
  {
   "cell_type": "markdown",
   "metadata": {},
   "source": [
    "The final step is to convert JSON in text format into structured data (i.e. list of dictionaries)."
   ]
  },
  {
   "cell_type": "code",
   "execution_count": 7,
   "metadata": {},
   "outputs": [
    {
     "name": "stdout",
     "output_type": "stream",
     "text": [
      "[{'line': 2, 'medication_name': 'Risperdal'},\n",
      " {'line': 2, 'medication_name': 'Invega'},\n",
      " {'line': 5, 'medication_name': 'multivitamins'}]\n"
     ]
    }
   ],
   "source": [
    "import json\n",
    "from pprint import pprint\n",
    "\n",
    "output_json = json.loads(output)\n",
    "pprint(output_json)\n"
   ]
  }
 ],
 "metadata": {
  "kernelspec": {
   "display_name": ".venv",
   "language": "python",
   "name": "python3"
  },
  "language_info": {
   "codemirror_mode": {
    "name": "ipython",
    "version": 3
   },
   "file_extension": ".py",
   "mimetype": "text/x-python",
   "name": "python",
   "nbconvert_exporter": "python",
   "pygments_lexer": "ipython3",
   "version": "3.12.7"
  }
 },
 "nbformat": 4,
 "nbformat_minor": 2
}
