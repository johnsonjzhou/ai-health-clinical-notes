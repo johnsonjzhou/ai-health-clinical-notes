{
 "cells": [
  {
   "cell_type": "code",
   "execution_count": 1,
   "metadata": {},
   "outputs": [],
   "source": [
    "import lmstudio as lms\n"
   ]
  },
  {
   "cell_type": "code",
   "execution_count": 2,
   "metadata": {},
   "outputs": [
    {
     "name": "stdout",
     "output_type": "stream",
     "text": [
      "The meaning of life is a subjective and debated topic. Ultimately, it's about finding purpose, happiness, and fulfillment. For some, it's pursuing passions, building relationships, or achieving personal growth. Others find meaning in spirituality, creativity, or contributing to society. The answer varies for each individual, making life a unique and personal journey of self-discovery.\n"
     ]
    },
    {
     "name": "stderr",
     "output_type": "stream",
     "text": [
      "{\"event\": \"Websocket failed, terminating session.\", \"thread_id\": \"Thread-4\", \"ws_url\": \"ws://localhost:1234/llm\"}\n",
      "Traceback (most recent call last):\n",
      "  File \"/Users/johnsonzhou/git/ai-health-clinical-notes/.venv/lib/python3.12/site-packages/lmstudio/sync_api.py\", line 422, in _receive_messages\n",
      "    await self._process_next_message()\n",
      "  File \"/Users/johnsonzhou/git/ai-health-clinical-notes/.venv/lib/python3.12/site-packages/lmstudio/sync_api.py\", line 389, in _process_next_message\n",
      "    message = await ws.receive_json()\n",
      "              ^^^^^^^^^^^^^^^^^^^^^^^\n",
      "  File \"/Users/johnsonzhou/git/ai-health-clinical-notes/.venv/lib/python3.12/site-packages/httpx_ws/_api.py\", line 951, in receive_json\n",
      "    data = await self.receive_text(timeout)\n",
      "           ^^^^^^^^^^^^^^^^^^^^^^^^^^^^^^^^\n",
      "  File \"/Users/johnsonzhou/git/ai-health-clinical-notes/.venv/lib/python3.12/site-packages/httpx_ws/_api.py\", line 861, in receive_text\n",
      "    event = await self.receive(timeout)\n",
      "            ^^^^^^^^^^^^^^^^^^^^^^^^^^^\n",
      "  File \"/Users/johnsonzhou/git/ai-health-clinical-notes/.venv/lib/python3.12/site-packages/httpx_ws/_api.py\", line 821, in receive\n",
      "    raise event\n",
      "httpx_ws._exceptions.WebSocketNetworkError\n",
      "Stack (most recent call last):\n",
      "  File \"/opt/homebrew/Caskroom/miniconda/base/lib/python3.12/threading.py\", line 1032, in _bootstrap\n",
      "    self._bootstrap_inner()\n",
      "  File \"/opt/homebrew/Caskroom/miniconda/base/lib/python3.12/threading.py\", line 1075, in _bootstrap_inner\n",
      "    self.run()\n",
      "  File \"/Users/johnsonzhou/git/ai-health-clinical-notes/.venv/lib/python3.12/site-packages/lmstudio/sync_api.py\", line 287, in run\n",
      "    asyncio.run(self._main_task())\n",
      "  File \"/opt/homebrew/Caskroom/miniconda/base/lib/python3.12/asyncio/runners.py\", line 194, in run\n",
      "    return runner.run(main)\n",
      "  File \"/opt/homebrew/Caskroom/miniconda/base/lib/python3.12/asyncio/runners.py\", line 118, in run\n",
      "    return self._loop.run_until_complete(task)\n",
      "  File \"/opt/homebrew/Caskroom/miniconda/base/lib/python3.12/asyncio/base_events.py\", line 674, in run_until_complete\n",
      "    self.run_forever()\n",
      "  File \"/opt/homebrew/Caskroom/miniconda/base/lib/python3.12/asyncio/base_events.py\", line 641, in run_forever\n",
      "    self._run_once()\n",
      "  File \"/opt/homebrew/Caskroom/miniconda/base/lib/python3.12/asyncio/base_events.py\", line 1986, in _run_once\n",
      "    handle._run()\n",
      "  File \"/opt/homebrew/Caskroom/miniconda/base/lib/python3.12/asyncio/events.py\", line 88, in _run\n",
      "    self._context.run(self._callback, *self._args)\n",
      "  File \"/Users/johnsonzhou/git/ai-health-clinical-notes/.venv/lib/python3.12/site-packages/lmstudio/sync_api.py\", line 426, in _receive_messages\n",
      "    self._logger.exception(\"Websocket failed, terminating session.\")\n"
     ]
    }
   ],
   "source": [
    "model = lms.llm(\"llama-3.3-70b-instruct\")\n",
    "prompt = \"What is the meaning of life? Use 100 words or less.\"\n",
    "\n",
    "for fragment in model.respond_stream(prompt):\n",
    "    print(fragment.content, end=\"\", flush=True)\n",
    "print() # Advance to a new line at the end of the response\n"
   ]
  }
 ],
 "metadata": {
  "kernelspec": {
   "display_name": ".venv",
   "language": "python",
   "name": "python3"
  },
  "language_info": {
   "codemirror_mode": {
    "name": "ipython",
    "version": 3
   },
   "file_extension": ".py",
   "mimetype": "text/x-python",
   "name": "python",
   "nbconvert_exporter": "python",
   "pygments_lexer": "ipython3",
   "version": "3.12.7"
  }
 },
 "nbformat": 4,
 "nbformat_minor": 2
}
